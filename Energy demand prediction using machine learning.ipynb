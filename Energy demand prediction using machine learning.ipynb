{
 "cells": [
  {
   "cell_type": "markdown",
   "metadata": {},
   "source": [
    "Energy demand prediction using Machine Learning"
   ]
  },
  {
   "cell_type": "code",
   "execution_count": 1,
   "metadata": {},
   "outputs": [],
   "source": [
    "import numpy as np\n",
    "import pandas as pd\n",
    "import matplotlib.pyplot as plt"
   ]
  },
  {
   "cell_type": "code",
   "execution_count": 2,
   "metadata": {},
   "outputs": [],
   "source": [
    "df = pd.read_csv(\"D:\\SAGES\\project\\Energy_consumption.csv\", parse_dates=['Timestamp'], index_col='Timestamp').iloc[:10]"
   ]
  },
  {
   "cell_type": "code",
   "execution_count": 3,
   "metadata": {},
   "outputs": [
    {
     "name": "stdout",
     "output_type": "stream",
     "text": [
      "<class 'pandas.core.frame.DataFrame'>\n",
      "DatetimeIndex: 10 entries, 2022-01-01 00:00:00 to 2022-01-01 09:00:00\n",
      "Data columns (total 10 columns):\n",
      " #   Column             Non-Null Count  Dtype  \n",
      "---  ------             --------------  -----  \n",
      " 0   Temperature        10 non-null     float64\n",
      " 1   Humidity           10 non-null     float64\n",
      " 2   SquareFootage      10 non-null     float64\n",
      " 3   Occupancy          10 non-null     int64  \n",
      " 4   HVACUsage          10 non-null     object \n",
      " 5   LightingUsage      10 non-null     object \n",
      " 6   RenewableEnergy    10 non-null     float64\n",
      " 7   DayOfWeek          10 non-null     object \n",
      " 8   Holiday            10 non-null     object \n",
      " 9   EnergyConsumption  10 non-null     float64\n",
      "dtypes: float64(5), int64(1), object(4)\n",
      "memory usage: 880.0+ bytes\n"
     ]
    }
   ],
   "source": [
    "df.info()"
   ]
  },
  {
   "cell_type": "code",
   "execution_count": 4,
   "metadata": {},
   "outputs": [
    {
     "data": {
      "text/html": [
       "<div>\n",
       "<style scoped>\n",
       "    .dataframe tbody tr th:only-of-type {\n",
       "        vertical-align: middle;\n",
       "    }\n",
       "\n",
       "    .dataframe tbody tr th {\n",
       "        vertical-align: top;\n",
       "    }\n",
       "\n",
       "    .dataframe thead th {\n",
       "        text-align: right;\n",
       "    }\n",
       "</style>\n",
       "<table border=\"1\" class=\"dataframe\">\n",
       "  <thead>\n",
       "    <tr style=\"text-align: right;\">\n",
       "      <th></th>\n",
       "      <th>Temperature</th>\n",
       "      <th>Humidity</th>\n",
       "      <th>SquareFootage</th>\n",
       "      <th>Occupancy</th>\n",
       "      <th>HVACUsage</th>\n",
       "      <th>LightingUsage</th>\n",
       "      <th>RenewableEnergy</th>\n",
       "      <th>DayOfWeek</th>\n",
       "      <th>Holiday</th>\n",
       "      <th>EnergyConsumption</th>\n",
       "    </tr>\n",
       "    <tr>\n",
       "      <th>Timestamp</th>\n",
       "      <th></th>\n",
       "      <th></th>\n",
       "      <th></th>\n",
       "      <th></th>\n",
       "      <th></th>\n",
       "      <th></th>\n",
       "      <th></th>\n",
       "      <th></th>\n",
       "      <th></th>\n",
       "      <th></th>\n",
       "    </tr>\n",
       "  </thead>\n",
       "  <tbody>\n",
       "    <tr>\n",
       "      <th>2022-01-01 00:00:00</th>\n",
       "      <td>25.139433</td>\n",
       "      <td>43.431581</td>\n",
       "      <td>1565.693999</td>\n",
       "      <td>5</td>\n",
       "      <td>On</td>\n",
       "      <td>Off</td>\n",
       "      <td>2.774699</td>\n",
       "      <td>Monday</td>\n",
       "      <td>No</td>\n",
       "      <td>75.364373</td>\n",
       "    </tr>\n",
       "    <tr>\n",
       "      <th>2022-01-01 01:00:00</th>\n",
       "      <td>27.731651</td>\n",
       "      <td>54.225919</td>\n",
       "      <td>1411.064918</td>\n",
       "      <td>1</td>\n",
       "      <td>On</td>\n",
       "      <td>On</td>\n",
       "      <td>21.831384</td>\n",
       "      <td>Saturday</td>\n",
       "      <td>No</td>\n",
       "      <td>83.401855</td>\n",
       "    </tr>\n",
       "    <tr>\n",
       "      <th>2022-01-01 02:00:00</th>\n",
       "      <td>28.704277</td>\n",
       "      <td>58.907658</td>\n",
       "      <td>1755.715009</td>\n",
       "      <td>2</td>\n",
       "      <td>Off</td>\n",
       "      <td>Off</td>\n",
       "      <td>6.764672</td>\n",
       "      <td>Sunday</td>\n",
       "      <td>No</td>\n",
       "      <td>78.270888</td>\n",
       "    </tr>\n",
       "    <tr>\n",
       "      <th>2022-01-01 03:00:00</th>\n",
       "      <td>20.080469</td>\n",
       "      <td>50.371637</td>\n",
       "      <td>1452.316318</td>\n",
       "      <td>1</td>\n",
       "      <td>Off</td>\n",
       "      <td>On</td>\n",
       "      <td>8.623447</td>\n",
       "      <td>Wednesday</td>\n",
       "      <td>No</td>\n",
       "      <td>56.519850</td>\n",
       "    </tr>\n",
       "    <tr>\n",
       "      <th>2022-01-01 04:00:00</th>\n",
       "      <td>23.097359</td>\n",
       "      <td>51.401421</td>\n",
       "      <td>1094.130359</td>\n",
       "      <td>9</td>\n",
       "      <td>On</td>\n",
       "      <td>Off</td>\n",
       "      <td>3.071969</td>\n",
       "      <td>Friday</td>\n",
       "      <td>No</td>\n",
       "      <td>70.811732</td>\n",
       "    </tr>\n",
       "  </tbody>\n",
       "</table>\n",
       "</div>"
      ],
      "text/plain": [
       "                     Temperature   Humidity  SquareFootage  Occupancy  \\\n",
       "Timestamp                                                               \n",
       "2022-01-01 00:00:00    25.139433  43.431581    1565.693999          5   \n",
       "2022-01-01 01:00:00    27.731651  54.225919    1411.064918          1   \n",
       "2022-01-01 02:00:00    28.704277  58.907658    1755.715009          2   \n",
       "2022-01-01 03:00:00    20.080469  50.371637    1452.316318          1   \n",
       "2022-01-01 04:00:00    23.097359  51.401421    1094.130359          9   \n",
       "\n",
       "                    HVACUsage LightingUsage  RenewableEnergy  DayOfWeek  \\\n",
       "Timestamp                                                                 \n",
       "2022-01-01 00:00:00        On           Off         2.774699     Monday   \n",
       "2022-01-01 01:00:00        On            On        21.831384   Saturday   \n",
       "2022-01-01 02:00:00       Off           Off         6.764672     Sunday   \n",
       "2022-01-01 03:00:00       Off            On         8.623447  Wednesday   \n",
       "2022-01-01 04:00:00        On           Off         3.071969     Friday   \n",
       "\n",
       "                    Holiday  EnergyConsumption  \n",
       "Timestamp                                       \n",
       "2022-01-01 00:00:00      No          75.364373  \n",
       "2022-01-01 01:00:00      No          83.401855  \n",
       "2022-01-01 02:00:00      No          78.270888  \n",
       "2022-01-01 03:00:00      No          56.519850  \n",
       "2022-01-01 04:00:00      No          70.811732  "
      ]
     },
     "execution_count": 4,
     "metadata": {},
     "output_type": "execute_result"
    }
   ],
   "source": [
    "df.head()"
   ]
  },
  {
   "cell_type": "code",
   "execution_count": 6,
   "metadata": {},
   "outputs": [],
   "source": [
    "#df[\"Timestamp\"] = pd.to_datetime(df[\"Timestamp\"])"
   ]
  },
  {
   "cell_type": "code",
   "execution_count": 14,
   "metadata": {},
   "outputs": [
    {
     "name": "stdout",
     "output_type": "stream",
     "text": [
      "<class 'pandas.core.frame.DataFrame'>\n",
      "DatetimeIndex: 10 entries, 2022-01-01 00:00:00 to 2022-01-01 09:00:00\n",
      "Data columns (total 19 columns):\n",
      " #   Column               Non-Null Count  Dtype  \n",
      "---  ------               --------------  -----  \n",
      " 0   Temperature          10 non-null     float64\n",
      " 1   Humidity             10 non-null     float64\n",
      " 2   SquareFootage        10 non-null     float64\n",
      " 3   Occupancy            10 non-null     int64  \n",
      " 4   RenewableEnergy      10 non-null     float64\n",
      " 5   EnergyConsumption    10 non-null     float64\n",
      " 6   HVACUsage_Off        10 non-null     bool   \n",
      " 7   HVACUsage_On         10 non-null     bool   \n",
      " 8   LightingUsage_Off    10 non-null     bool   \n",
      " 9   LightingUsage_On     10 non-null     bool   \n",
      " 10  DayOfWeek_Friday     10 non-null     bool   \n",
      " 11  DayOfWeek_Monday     10 non-null     bool   \n",
      " 12  DayOfWeek_Saturday   10 non-null     bool   \n",
      " 13  DayOfWeek_Sunday     10 non-null     bool   \n",
      " 14  DayOfWeek_Thursday   10 non-null     bool   \n",
      " 15  DayOfWeek_Tuesday    10 non-null     bool   \n",
      " 16  DayOfWeek_Wednesday  10 non-null     bool   \n",
      " 17  Holiday_No           10 non-null     bool   \n",
      " 18  Holiday_Yes          10 non-null     bool   \n",
      "dtypes: bool(13), float64(5), int64(1)\n",
      "memory usage: 690.0 bytes\n"
     ]
    }
   ],
   "source": [
    "df.info()"
   ]
  },
  {
   "cell_type": "code",
   "execution_count": null,
   "metadata": {},
   "outputs": [],
   "source": [
    "df = pd.get_dummies(df)"
   ]
  },
  {
   "cell_type": "code",
   "execution_count": 8,
   "metadata": {},
   "outputs": [],
   "source": [
    "from sklearn.linear_model import LinearRegression\n",
    "from sklearn.model_selection import train_test_split\n",
    "from sklearn.metrics import mean_squared_error"
   ]
  },
  {
   "cell_type": "code",
   "execution_count": 9,
   "metadata": {},
   "outputs": [],
   "source": [
    "X,y = df.drop(['EnergyConsumption'], axis =1), df['EnergyConsumption']"
   ]
  },
  {
   "cell_type": "code",
   "execution_count": 10,
   "metadata": {},
   "outputs": [],
   "source": [
    "X_train, X_test, y_train, y_test = train_test_split(X, y, test_size =0.2, random_state =42)"
   ]
  },
  {
   "cell_type": "code",
   "execution_count": 11,
   "metadata": {},
   "outputs": [
    {
     "data": {
      "text/html": [
       "<style>#sk-container-id-1 {color: black;background-color: white;}#sk-container-id-1 pre{padding: 0;}#sk-container-id-1 div.sk-toggleable {background-color: white;}#sk-container-id-1 label.sk-toggleable__label {cursor: pointer;display: block;width: 100%;margin-bottom: 0;padding: 0.3em;box-sizing: border-box;text-align: center;}#sk-container-id-1 label.sk-toggleable__label-arrow:before {content: \"▸\";float: left;margin-right: 0.25em;color: #696969;}#sk-container-id-1 label.sk-toggleable__label-arrow:hover:before {color: black;}#sk-container-id-1 div.sk-estimator:hover label.sk-toggleable__label-arrow:before {color: black;}#sk-container-id-1 div.sk-toggleable__content {max-height: 0;max-width: 0;overflow: hidden;text-align: left;background-color: #f0f8ff;}#sk-container-id-1 div.sk-toggleable__content pre {margin: 0.2em;color: black;border-radius: 0.25em;background-color: #f0f8ff;}#sk-container-id-1 input.sk-toggleable__control:checked~div.sk-toggleable__content {max-height: 200px;max-width: 100%;overflow: auto;}#sk-container-id-1 input.sk-toggleable__control:checked~label.sk-toggleable__label-arrow:before {content: \"▾\";}#sk-container-id-1 div.sk-estimator input.sk-toggleable__control:checked~label.sk-toggleable__label {background-color: #d4ebff;}#sk-container-id-1 div.sk-label input.sk-toggleable__control:checked~label.sk-toggleable__label {background-color: #d4ebff;}#sk-container-id-1 input.sk-hidden--visually {border: 0;clip: rect(1px 1px 1px 1px);clip: rect(1px, 1px, 1px, 1px);height: 1px;margin: -1px;overflow: hidden;padding: 0;position: absolute;width: 1px;}#sk-container-id-1 div.sk-estimator {font-family: monospace;background-color: #f0f8ff;border: 1px dotted black;border-radius: 0.25em;box-sizing: border-box;margin-bottom: 0.5em;}#sk-container-id-1 div.sk-estimator:hover {background-color: #d4ebff;}#sk-container-id-1 div.sk-parallel-item::after {content: \"\";width: 100%;border-bottom: 1px solid gray;flex-grow: 1;}#sk-container-id-1 div.sk-label:hover label.sk-toggleable__label {background-color: #d4ebff;}#sk-container-id-1 div.sk-serial::before {content: \"\";position: absolute;border-left: 1px solid gray;box-sizing: border-box;top: 0;bottom: 0;left: 50%;z-index: 0;}#sk-container-id-1 div.sk-serial {display: flex;flex-direction: column;align-items: center;background-color: white;padding-right: 0.2em;padding-left: 0.2em;position: relative;}#sk-container-id-1 div.sk-item {position: relative;z-index: 1;}#sk-container-id-1 div.sk-parallel {display: flex;align-items: stretch;justify-content: center;background-color: white;position: relative;}#sk-container-id-1 div.sk-item::before, #sk-container-id-1 div.sk-parallel-item::before {content: \"\";position: absolute;border-left: 1px solid gray;box-sizing: border-box;top: 0;bottom: 0;left: 50%;z-index: -1;}#sk-container-id-1 div.sk-parallel-item {display: flex;flex-direction: column;z-index: 1;position: relative;background-color: white;}#sk-container-id-1 div.sk-parallel-item:first-child::after {align-self: flex-end;width: 50%;}#sk-container-id-1 div.sk-parallel-item:last-child::after {align-self: flex-start;width: 50%;}#sk-container-id-1 div.sk-parallel-item:only-child::after {width: 0;}#sk-container-id-1 div.sk-dashed-wrapped {border: 1px dashed gray;margin: 0 0.4em 0.5em 0.4em;box-sizing: border-box;padding-bottom: 0.4em;background-color: white;}#sk-container-id-1 div.sk-label label {font-family: monospace;font-weight: bold;display: inline-block;line-height: 1.2em;}#sk-container-id-1 div.sk-label-container {text-align: center;}#sk-container-id-1 div.sk-container {/* jupyter's `normalize.less` sets `[hidden] { display: none; }` but bootstrap.min.css set `[hidden] { display: none !important; }` so we also need the `!important` here to be able to override the default hidden behavior on the sphinx rendered scikit-learn.org. See: https://github.com/scikit-learn/scikit-learn/issues/21755 */display: inline-block !important;position: relative;}#sk-container-id-1 div.sk-text-repr-fallback {display: none;}</style><div id=\"sk-container-id-1\" class=\"sk-top-container\"><div class=\"sk-text-repr-fallback\"><pre>LinearRegression()</pre><b>In a Jupyter environment, please rerun this cell to show the HTML representation or trust the notebook. <br />On GitHub, the HTML representation is unable to render, please try loading this page with nbviewer.org.</b></div><div class=\"sk-container\" hidden><div class=\"sk-item\"><div class=\"sk-estimator sk-toggleable\"><input class=\"sk-toggleable__control sk-hidden--visually\" id=\"sk-estimator-id-1\" type=\"checkbox\" checked><label for=\"sk-estimator-id-1\" class=\"sk-toggleable__label sk-toggleable__label-arrow\">LinearRegression</label><div class=\"sk-toggleable__content\"><pre>LinearRegression()</pre></div></div></div></div></div>"
      ],
      "text/plain": [
       "LinearRegression()"
      ]
     },
     "execution_count": 11,
     "metadata": {},
     "output_type": "execute_result"
    }
   ],
   "source": [
    "model = LinearRegression()\n",
    "model.fit(X_train, y_train)"
   ]
  },
  {
   "cell_type": "code",
   "execution_count": 12,
   "metadata": {},
   "outputs": [],
   "source": [
    "y_pred = model.predict(X_test)"
   ]
  },
  {
   "cell_type": "code",
   "execution_count": 13,
   "metadata": {},
   "outputs": [
    {
     "name": "stdout",
     "output_type": "stream",
     "text": [
      "4.837540591275367\n"
     ]
    }
   ],
   "source": [
    "print(mean_squared_error(y_test, y_pred))"
   ]
  },
  {
   "cell_type": "code",
   "execution_count": null,
   "metadata": {},
   "outputs": [],
   "source": []
  }
 ],
 "metadata": {
  "kernelspec": {
   "display_name": "Python 3",
   "language": "python",
   "name": "python3"
  },
  "language_info": {
   "codemirror_mode": {
    "name": "ipython",
    "version": 3
   },
   "file_extension": ".py",
   "mimetype": "text/x-python",
   "name": "python",
   "nbconvert_exporter": "python",
   "pygments_lexer": "ipython3",
   "version": "3.11.7"
  }
 },
 "nbformat": 4,
 "nbformat_minor": 2
}
