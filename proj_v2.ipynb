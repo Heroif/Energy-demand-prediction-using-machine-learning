{
 "cells": [
  {
   "cell_type": "code",
   "execution_count": 27,
   "metadata": {},
   "outputs": [],
   "source": [
    "# Importowanie bibliotek\n",
    "import pandas as pd\n",
    "import numpy as np\n",
    "from sklearn.ensemble import RandomForestRegressor\n",
    "from sklearn.model_selection import train_test_split\n",
    "from sklearn.metrics import mean_absolute_error, mean_squared_error\n",
    "from sklearn.preprocessing import StandardScaler\n",
    "from sklearn.preprocessing import LabelEncoder\n",
    "from datetime import datetime\n",
    "import matplotlib.pyplot as plt"
   ]
  },
  {
   "cell_type": "code",
   "execution_count": 28,
   "metadata": {},
   "outputs": [],
   "source": [
    "# Wczytanie danych\n",
    "data = pd.read_csv(\"D:\\SAGES\\project\\Energy_consumption.csv\")"
   ]
  },
  {
   "cell_type": "code",
   "execution_count": 29,
   "metadata": {},
   "outputs": [],
   "source": [
    "# Konwersja kolumny 'Timestamp' na format datetime\n",
    "data['Timestamp'] = pd.to_datetime(data['Timestamp'])"
   ]
  },
  {
   "cell_type": "code",
   "execution_count": 30,
   "metadata": {},
   "outputs": [
    {
     "name": "stdout",
     "output_type": "stream",
     "text": [
      "Podstawowe informacje o danych:\n",
      "<class 'pandas.core.frame.DataFrame'>\n",
      "RangeIndex: 1000 entries, 0 to 999\n",
      "Data columns (total 11 columns):\n",
      " #   Column             Non-Null Count  Dtype         \n",
      "---  ------             --------------  -----         \n",
      " 0   Timestamp          1000 non-null   datetime64[ns]\n",
      " 1   Temperature        1000 non-null   float64       \n",
      " 2   Humidity           1000 non-null   float64       \n",
      " 3   SquareFootage      1000 non-null   float64       \n",
      " 4   Occupancy          1000 non-null   int64         \n",
      " 5   HVACUsage          1000 non-null   object        \n",
      " 6   LightingUsage      1000 non-null   object        \n",
      " 7   RenewableEnergy    1000 non-null   float64       \n",
      " 8   DayOfWeek          1000 non-null   object        \n",
      " 9   Holiday            1000 non-null   object        \n",
      " 10  EnergyConsumption  1000 non-null   float64       \n",
      "dtypes: datetime64[ns](1), float64(5), int64(1), object(4)\n",
      "memory usage: 86.1+ KB\n",
      "None\n",
      "\n",
      "Podgląd danych:\n",
      "            Timestamp  Temperature   Humidity  SquareFootage  Occupancy  \\\n",
      "0 2022-01-01 00:00:00    25.139433  43.431581    1565.693999          5   \n",
      "1 2022-01-01 01:00:00    27.731651  54.225919    1411.064918          1   \n",
      "2 2022-01-01 02:00:00    28.704277  58.907658    1755.715009          2   \n",
      "3 2022-01-01 03:00:00    20.080469  50.371637    1452.316318          1   \n",
      "4 2022-01-01 04:00:00    23.097359  51.401421    1094.130359          9   \n",
      "\n",
      "  HVACUsage LightingUsage  RenewableEnergy  DayOfWeek Holiday  \\\n",
      "0        On           Off         2.774699     Monday      No   \n",
      "1        On            On        21.831384   Saturday      No   \n",
      "2       Off           Off         6.764672     Sunday      No   \n",
      "3       Off            On         8.623447  Wednesday      No   \n",
      "4        On           Off         3.071969     Friday      No   \n",
      "\n",
      "   EnergyConsumption  \n",
      "0          75.364373  \n",
      "1          83.401855  \n",
      "2          78.270888  \n",
      "3          56.519850  \n",
      "4          70.811732  \n"
     ]
    }
   ],
   "source": [
    "# Wyświetlenie podstawowych informacji\n",
    "print(\"Podstawowe informacje o danych:\")\n",
    "print(data.info())\n",
    "print(\"\\nPodgląd danych:\")\n",
    "print(data.head())"
   ]
  },
  {
   "cell_type": "code",
   "execution_count": 31,
   "metadata": {},
   "outputs": [
    {
     "name": "stdout",
     "output_type": "stream",
     "text": [
      "\n",
      "Sprawdzanie braków danych:\n",
      "Timestamp            0\n",
      "Temperature          0\n",
      "Humidity             0\n",
      "SquareFootage        0\n",
      "Occupancy            0\n",
      "HVACUsage            0\n",
      "LightingUsage        0\n",
      "RenewableEnergy      0\n",
      "DayOfWeek            0\n",
      "Holiday              0\n",
      "EnergyConsumption    0\n",
      "dtype: int64\n"
     ]
    }
   ],
   "source": [
    "# Eksploracja danych\n",
    "print(\"\\nSprawdzanie braków danych:\")\n",
    "print(data.isnull().sum())"
   ]
  },
  {
   "cell_type": "code",
   "execution_count": 32,
   "metadata": {},
   "outputs": [
    {
     "data": {
      "text/html": [
       "<div>\n",
       "<style scoped>\n",
       "    .dataframe tbody tr th:only-of-type {\n",
       "        vertical-align: middle;\n",
       "    }\n",
       "\n",
       "    .dataframe tbody tr th {\n",
       "        vertical-align: top;\n",
       "    }\n",
       "\n",
       "    .dataframe thead th {\n",
       "        text-align: right;\n",
       "    }\n",
       "</style>\n",
       "<table border=\"1\" class=\"dataframe\">\n",
       "  <thead>\n",
       "    <tr style=\"text-align: right;\">\n",
       "      <th></th>\n",
       "      <th>Timestamp</th>\n",
       "      <th>Temperature</th>\n",
       "      <th>Humidity</th>\n",
       "      <th>SquareFootage</th>\n",
       "      <th>Occupancy</th>\n",
       "      <th>HVACUsage</th>\n",
       "      <th>LightingUsage</th>\n",
       "      <th>RenewableEnergy</th>\n",
       "      <th>DayOfWeek</th>\n",
       "      <th>Holiday</th>\n",
       "      <th>EnergyConsumption</th>\n",
       "    </tr>\n",
       "  </thead>\n",
       "  <tbody>\n",
       "    <tr>\n",
       "      <th>0</th>\n",
       "      <td>2022-01-01 00:00:00</td>\n",
       "      <td>25.139433</td>\n",
       "      <td>43.431581</td>\n",
       "      <td>1565.693999</td>\n",
       "      <td>5</td>\n",
       "      <td>1</td>\n",
       "      <td>0</td>\n",
       "      <td>2.774699</td>\n",
       "      <td>1</td>\n",
       "      <td>0</td>\n",
       "      <td>75.364373</td>\n",
       "    </tr>\n",
       "    <tr>\n",
       "      <th>1</th>\n",
       "      <td>2022-01-01 01:00:00</td>\n",
       "      <td>27.731651</td>\n",
       "      <td>54.225919</td>\n",
       "      <td>1411.064918</td>\n",
       "      <td>1</td>\n",
       "      <td>1</td>\n",
       "      <td>1</td>\n",
       "      <td>21.831384</td>\n",
       "      <td>2</td>\n",
       "      <td>0</td>\n",
       "      <td>83.401855</td>\n",
       "    </tr>\n",
       "    <tr>\n",
       "      <th>2</th>\n",
       "      <td>2022-01-01 02:00:00</td>\n",
       "      <td>28.704277</td>\n",
       "      <td>58.907658</td>\n",
       "      <td>1755.715009</td>\n",
       "      <td>2</td>\n",
       "      <td>0</td>\n",
       "      <td>0</td>\n",
       "      <td>6.764672</td>\n",
       "      <td>3</td>\n",
       "      <td>0</td>\n",
       "      <td>78.270888</td>\n",
       "    </tr>\n",
       "    <tr>\n",
       "      <th>3</th>\n",
       "      <td>2022-01-01 03:00:00</td>\n",
       "      <td>20.080469</td>\n",
       "      <td>50.371637</td>\n",
       "      <td>1452.316318</td>\n",
       "      <td>1</td>\n",
       "      <td>0</td>\n",
       "      <td>1</td>\n",
       "      <td>8.623447</td>\n",
       "      <td>6</td>\n",
       "      <td>0</td>\n",
       "      <td>56.519850</td>\n",
       "    </tr>\n",
       "    <tr>\n",
       "      <th>4</th>\n",
       "      <td>2022-01-01 04:00:00</td>\n",
       "      <td>23.097359</td>\n",
       "      <td>51.401421</td>\n",
       "      <td>1094.130359</td>\n",
       "      <td>9</td>\n",
       "      <td>1</td>\n",
       "      <td>0</td>\n",
       "      <td>3.071969</td>\n",
       "      <td>0</td>\n",
       "      <td>0</td>\n",
       "      <td>70.811732</td>\n",
       "    </tr>\n",
       "  </tbody>\n",
       "</table>\n",
       "</div>"
      ],
      "text/plain": [
       "            Timestamp  Temperature   Humidity  SquareFootage  Occupancy  \\\n",
       "0 2022-01-01 00:00:00    25.139433  43.431581    1565.693999          5   \n",
       "1 2022-01-01 01:00:00    27.731651  54.225919    1411.064918          1   \n",
       "2 2022-01-01 02:00:00    28.704277  58.907658    1755.715009          2   \n",
       "3 2022-01-01 03:00:00    20.080469  50.371637    1452.316318          1   \n",
       "4 2022-01-01 04:00:00    23.097359  51.401421    1094.130359          9   \n",
       "\n",
       "   HVACUsage  LightingUsage  RenewableEnergy  DayOfWeek  Holiday  \\\n",
       "0          1              0         2.774699          1        0   \n",
       "1          1              1        21.831384          2        0   \n",
       "2          0              0         6.764672          3        0   \n",
       "3          0              1         8.623447          6        0   \n",
       "4          1              0         3.071969          0        0   \n",
       "\n",
       "   EnergyConsumption  \n",
       "0          75.364373  \n",
       "1          83.401855  \n",
       "2          78.270888  \n",
       "3          56.519850  \n",
       "4          70.811732  "
      ]
     },
     "execution_count": 32,
     "metadata": {},
     "output_type": "execute_result"
    }
   ],
   "source": [
    "le = LabelEncoder()\n",
    "\n",
    "for col in ['HVACUsage','LightingUsage', 'DayOfWeek', 'Holiday']:\n",
    "    le.fit(data[col])\n",
    "    data[col] = le.transform(data[col])\n",
    "\n",
    "data.head()"
   ]
  },
  {
   "cell_type": "code",
   "execution_count": 33,
   "metadata": {},
   "outputs": [],
   "source": [
    "# Wypełnianie braków danych (jeśli występują)\n",
    "#data.fillna(data.median(), inplace=True)"
   ]
  },
  {
   "cell_type": "code",
   "execution_count": 34,
   "metadata": {},
   "outputs": [
    {
     "ename": "AttributeError",
     "evalue": "'RangeIndex' object has no attribute 'hour'",
     "output_type": "error",
     "traceback": [
      "\u001b[1;31m---------------------------------------------------------------------------\u001b[0m",
      "\u001b[1;31mAttributeError\u001b[0m                            Traceback (most recent call last)",
      "Cell \u001b[1;32mIn[34], line 2\u001b[0m\n\u001b[0;32m      1\u001b[0m \u001b[38;5;66;03m# Tworzenie cech czasowych z kolumny 'Timestamp'\u001b[39;00m\n\u001b[1;32m----> 2\u001b[0m data[\u001b[38;5;124m'\u001b[39m\u001b[38;5;124mHour\u001b[39m\u001b[38;5;124m'\u001b[39m] \u001b[38;5;241m=\u001b[39m \u001b[43mdata\u001b[49m\u001b[38;5;241;43m.\u001b[39;49m\u001b[43mindex\u001b[49m\u001b[38;5;241;43m.\u001b[39;49m\u001b[43mhour\u001b[49m  \u001b[38;5;66;03m# Godzina\u001b[39;00m\n\u001b[0;32m      3\u001b[0m data[\u001b[38;5;124m'\u001b[39m\u001b[38;5;124mDay\u001b[39m\u001b[38;5;124m'\u001b[39m] \u001b[38;5;241m=\u001b[39m data\u001b[38;5;241m.\u001b[39mindex\u001b[38;5;241m.\u001b[39mday    \u001b[38;5;66;03m# Dzień miesiąca\u001b[39;00m\n\u001b[0;32m      4\u001b[0m data[\u001b[38;5;124m'\u001b[39m\u001b[38;5;124mMonth\u001b[39m\u001b[38;5;124m'\u001b[39m] \u001b[38;5;241m=\u001b[39m data\u001b[38;5;241m.\u001b[39mindex\u001b[38;5;241m.\u001b[39mmonth  \u001b[38;5;66;03m# Miesiąc\u001b[39;00m\n",
      "\u001b[1;31mAttributeError\u001b[0m: 'RangeIndex' object has no attribute 'hour'"
     ]
    }
   ],
   "source": [
    "# Tworzenie cech czasowych z kolumny 'Timestamp'\n",
    "data['Hour'] = data.index.hour  # Godzina\n",
    "data['Day'] = data.index.day    # Dzień miesiąca\n",
    "data['Month'] = data.index.month  # Miesiąc\n",
    "data['Weekday'] = data.index.weekday  # Dzień tygodnia (0=poniedziałek)"
   ]
  },
  {
   "cell_type": "code",
   "execution_count": null,
   "metadata": {},
   "outputs": [],
   "source": [
    "# Wybór cech i zmiennej docelowej\n",
    "X = data.drop(columns=['Energy'])  # Cechy\n",
    "y = data['Energy']                # Zmienna docelowa"
   ]
  },
  {
   "cell_type": "code",
   "execution_count": null,
   "metadata": {},
   "outputs": [],
   "source": [
    "# Skalowanie cech\n",
    "scaler = StandardScaler()\n",
    "X_scaled = scaler.fit_transform(X)"
   ]
  },
  {
   "cell_type": "code",
   "execution_count": null,
   "metadata": {},
   "outputs": [],
   "source": [
    "# Podział danych na zbiór treningowy i testowy\n",
    "X_train, X_test, y_train, y_test = train_test_split(X_scaled, y, test_size=0.2, random_state=42, shuffle=False)"
   ]
  },
  {
   "cell_type": "code",
   "execution_count": null,
   "metadata": {},
   "outputs": [],
   "source": [
    "# Trenowanie modelu\n",
    "model = RandomForestRegressor(n_estimators=100, random_state=42)\n",
    "model.fit(X_train, y_train)"
   ]
  },
  {
   "cell_type": "code",
   "execution_count": null,
   "metadata": {},
   "outputs": [],
   "source": [
    "# Predykcja na zbiorze testowym\n",
    "y_pred = model.predict(X_test)"
   ]
  },
  {
   "cell_type": "code",
   "execution_count": null,
   "metadata": {},
   "outputs": [],
   "source": [
    "# Obliczenie metryk\n",
    "mae = mean_absolute_error(y_test, y_pred)\n",
    "mse = mean_squared_error(y_test, y_pred)\n",
    "rmse = np.sqrt(mse)"
   ]
  },
  {
   "cell_type": "code",
   "execution_count": null,
   "metadata": {},
   "outputs": [],
   "source": [
    "print(\"\\nWyniki modelu:\")\n",
    "print(f\"Mean Absolute Error (MAE): {mae:.2f}\")\n",
    "print(f\"Mean Squared Error (MSE): {mse:.2f}\")\n",
    "print(f\"Root Mean Squared Error (RMSE): {rmse:.2f}\")"
   ]
  },
  {
   "cell_type": "code",
   "execution_count": null,
   "metadata": {},
   "outputs": [],
   "source": [
    "# Wykres wyników: rzeczywiste vs przewidywane\n",
    "plt.figure(figsize=(10, 6))\n",
    "plt.plot(y_test.index, y_test, label=\"Rzeczywiste\", color=\"blue\", alpha=0.6)\n",
    "plt.plot(y_test.index, y_pred, label=\"Przewidywane\", color=\"orange\", alpha=0.6)\n",
    "plt.title(\"Rzeczywiste vs Przewidywane zapotrzebowanie na energię\")\n",
    "plt.xlabel(\"Czas\")\n",
    "plt.ylabel(\"Zapotrzebowanie na energię\")\n",
    "plt.legend()\n",
    "plt.show()"
   ]
  },
  {
   "cell_type": "code",
   "execution_count": null,
   "metadata": {},
   "outputs": [],
   "source": [
    "# Opcjonalnie: zapisanie wyników do pliku\n",
    "output = pd.DataFrame({'Timestamp': y_test.index, 'Actual': y_test, 'Predicted': y_pred})\n",
    "output.to_csv('time_series_energy_predictions.csv', index=False)\n",
    "print(\"\\nPredykcje zapisane do pliku 'time_series_energy_predictions.csv'\")"
   ]
  }
 ],
 "metadata": {
  "kernelspec": {
   "display_name": "Python 3",
   "language": "python",
   "name": "python3"
  },
  "language_info": {
   "codemirror_mode": {
    "name": "ipython",
    "version": 3
   },
   "file_extension": ".py",
   "mimetype": "text/x-python",
   "name": "python",
   "nbconvert_exporter": "python",
   "pygments_lexer": "ipython3",
   "version": "3.11.7"
  }
 },
 "nbformat": 4,
 "nbformat_minor": 2
}
